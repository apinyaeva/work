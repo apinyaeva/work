{
 "cells": [
  {
   "cell_type": "markdown",
   "id": "89a2dc8e-2059-4bc2-99e2-736aef7e8382",
   "metadata": {},
   "source": [
    "# Шифр цезаря"
   ]
  },
  {
   "cell_type": "code",
   "execution_count": 1,
   "id": "3c0213ba-66fe-4dd1-a99d-d16f24e5c659",
   "metadata": {},
   "outputs": [
    {
     "data": {
      "text/plain": [
       "ceasar_de (generic function with 1 method)"
      ]
     },
     "execution_count": 1,
     "metadata": {},
     "output_type": "execute_result"
    }
   ],
   "source": [
    "function ceasar(text::String, k::Int; alphabet::String=\"абвгдежзийклмнопрстуфхцчшщъыьэюя\")\n",
    "    alphabet_chars = collect(alphabet)\n",
    "    text_chars = collect(text)\n",
    "    result = \"\"\n",
    "    for char in text_chars \n",
    "        idx=findfirst(isequal(char), alphabet_chars)\n",
    "        if idx !==nothing\n",
    "            new_idx = mod1(idx+k, length(alphabet_chars))\n",
    "            result *= string(alphabet_chars[new_idx])\n",
    "        else\n",
    "            result *= string(char)\n",
    "        end\n",
    "    end\n",
    "    return result\n",
    "end\n",
    "\n",
    "function ceasar_de(de_text::String, k::Int; alphabet::String=\"абвгдежзийклмнопрстуфхцчшщъыьэюя\")\n",
    "    return ceasar(de_text, -k, alphabet=alphabet)\n",
    "end\n",
    "\n"
   ]
  },
  {
   "cell_type": "code",
   "execution_count": 3,
   "id": "90d9cf3a-8fd4-48a3-90fd-9b5fc34598e5",
   "metadata": {},
   "outputs": [
    {
     "name": "stdout",
     "output_type": "stream",
     "text": [
      "Исходный текст'привет'\n",
      "зашифрованный текст'тулеих'\n",
      "дешифрованный текст'привет'\n"
     ]
    }
   ],
   "source": [
    "text1=\"привет\"\n",
    "key1=3\n",
    "encrypted1=\n",
    "ceasar(text1, key1)\n",
    "descrypted1=\n",
    "ceasar_de(encrypted1, key1)\n",
    "println(\"Исходный текст'$text1'\")\n",
    "println(\"зашифрованный текст'$encrypted1'\")\n",
    "println(\"дешифрованный текст'$descrypted1'\")"
   ]
  },
  {
   "cell_type": "markdown",
   "id": "4b2a13d2-86ba-49a5-8b44-5001193decbb",
   "metadata": {},
   "source": [
    "# Шифр Атбаш\n",
    "\n"
   ]
  },
  {
   "cell_type": "code",
   "execution_count": 4,
   "id": "69b4bf24-88e2-48e9-b34b-4dd9824674d4",
   "metadata": {},
   "outputs": [
    {
     "data": {
      "text/plain": [
       "atbash (generic function with 2 methods)"
      ]
     },
     "execution_count": 4,
     "metadata": {},
     "output_type": "execute_result"
    }
   ],
   "source": [
    "function atbash(text::String, alphabet::String=\"абвгдежзийклмнопрстуфхцчшщъыьэюя\")\n",
    "    alphabet_chars = collect(alphabet)\n",
    "    text_chars = collect(text)\n",
    "    result = \"\"\n",
    "    for char in text_chars \n",
    "        idx=findfirst(isequal(char), alphabet_chars)\n",
    "        if idx !==nothing\n",
    "            new_idx = length(alphabet_chars)-idx+1\n",
    "            result *= string(alphabet_chars[new_idx])\n",
    "        else\n",
    "            result *= string(char)\n",
    "        end\n",
    "    end\n",
    "    return result\n",
    "end\n",
    "atbash_de = atbash"
   ]
  },
  {
   "cell_type": "code",
   "execution_count": 5,
   "id": "081b1355-5974-46eb-a395-b37b24a9c993",
   "metadata": {},
   "outputs": [
    {
     "name": "stdout",
     "output_type": "stream",
     "text": [
      "Исходный текст'привет'\n",
      "зашифрованный текст'рпчэън'\n",
      "дешифрованный текст'привет'\n"
     ]
    }
   ],
   "source": [
    "text2=\"привет\"\n",
    "encrypted2=\n",
    "atbash(text2)\n",
    "descrypted2=\n",
    "atbash_de(encrypted2)\n",
    "println(\"Исходный текст'$text2'\")\n",
    "println(\"зашифрованный текст'$encrypted2'\")\n",
    "println(\"дешифрованный текст'$descrypted2'\")"
   ]
  },
  {
   "cell_type": "code",
   "execution_count": null,
   "id": "1b181b62-0238-483d-9aa9-ac5f87511fa5",
   "metadata": {},
   "outputs": [],
   "source": []
  }
 ],
 "metadata": {
  "kernelspec": {
   "display_name": "Julia 1.11.6",
   "language": "julia",
   "name": "julia-1.11"
  },
  "language_info": {
   "file_extension": ".jl",
   "mimetype": "application/julia",
   "name": "julia",
   "version": "1.11.6"
  }
 },
 "nbformat": 4,
 "nbformat_minor": 5
}
