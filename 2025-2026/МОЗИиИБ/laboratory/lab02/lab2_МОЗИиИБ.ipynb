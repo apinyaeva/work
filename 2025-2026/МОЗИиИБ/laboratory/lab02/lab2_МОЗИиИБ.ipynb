{
 "cells": [
  {
   "cell_type": "markdown",
   "id": "47f74f6d-3966-49c1-99c1-dbf997637172",
   "metadata": {},
   "source": [
    "# Маршрутное "
   ]
  },
  {
   "cell_type": "code",
   "execution_count": 1,
   "id": "37347c54-a6c4-4328-b4f1-d967a1e30dfd",
   "metadata": {},
   "outputs": [
    {
     "data": {
      "text/plain": [
       "column (generic function with 1 method)"
      ]
     },
     "execution_count": 1,
     "metadata": {},
     "output_type": "execute_result"
    }
   ],
   "source": [
    "function column(text, password)\n",
    "    text = replace(uppercase(text), \" \" => \"\")\n",
    "    text_chars = collect(text) \n",
    "    n = length(collect(password))  \n",
    "    if length(text_chars) % n != 0\n",
    "        append!(text_chars, fill('X', n - length(text_chars) % n))\n",
    "    end  \n",
    "    m = length(text_chars) ÷ n \n",
    "    table = [text_chars[i*n+1:(i+1)*n] for i in 0:m-1]\n",
    "    password_chars = collect(password)\n",
    "    order = sortperm(password_chars)\n",
    "    cipher_chars = Char[]\n",
    "    for col in order\n",
    "        for row in 1:m\n",
    "            push!(cipher_chars, table[row][col])\n",
    "        end\n",
    "    end    \n",
    "    return join(cipher_chars)\n",
    "end"
   ]
  },
  {
   "cell_type": "code",
   "execution_count": 2,
   "id": "04a16496-7ef1-404f-b852-d95766550664",
   "metadata": {},
   "outputs": [
    {
     "name": "stdout",
     "output_type": "stream",
     "text": [
      "ЕЕНПНЗОАТАЬОВОКННЕЬВЛДИРИЯЦТИX\n"
     ]
    }
   ],
   "source": [
    "text1=\"нельзя недооценивать противника\"\n",
    "password1=\"пароль\"\n",
    "encrypted1=\n",
    "column(text1, password1)\n",
    "println(encrypted1)"
   ]
  },
  {
   "cell_type": "markdown",
   "id": "ee22fb6d-7c04-4aef-8982-1dc09de81871",
   "metadata": {},
   "source": [
    "# решетки"
   ]
  },
  {
   "cell_type": "code",
   "execution_count": 4,
   "id": "84558a9f-2326-431d-a2a7-f2e1ee9bd794",
   "metadata": {},
   "outputs": [
    {
     "data": {
      "text/plain": [
       "rotl90 (generic function with 1 method)"
      ]
     },
     "execution_count": 4,
     "metadata": {},
     "output_type": "execute_result"
    }
   ],
   "source": [
    "function fleissner(k, text, password)\n",
    "    grid = zeros(Int, 2k, 2k)\n",
    "    num = 1\n",
    "    temp_grid = reshape(1:(4*k^2), k, 4k)\n",
    "    for rot in 0:3\n",
    "        view = temp_grid[1:k, rot*k+1:(rot+1)*k]\n",
    "        grid[1:k, 1:k] = view\n",
    "        grid = rotl90(grid)\n",
    "    end\n",
    "    \n",
    "    holes = collect(1:k^2)\n",
    "    \n",
    "    text = replace(uppercase(text), \" \" => \"\")\n",
    "    text_chars = collect(text)\n",
    "    \n",
    "    total_cells = 4*k^2\n",
    "    if length(text_chars) < total_cells\n",
    "        append!(text_chars, fill('X', total_cells - length(text_chars)))\n",
    "    elseif length(text_chars) > total_cells\n",
    "        text_chars = text_chars[1:total_cells]\n",
    "    end\n",
    "    \n",
    "    table = fill(' ', 2k, 2k)\n",
    "    current_grid = copy(grid)\n",
    "    idx = 1\n",
    "    \n",
    "    for rotation in 0:3\n",
    "        for pos in 1:(2k)^2\n",
    "            if current_grid[pos] in holes\n",
    "                table[pos] = text_chars[idx]\n",
    "                idx += 1\n",
    "            end\n",
    "        end\n",
    "        current_grid = rotl90(current_grid)\n",
    "    end\n",
    "    \n",
    "    password_chars = collect(password)\n",
    "    order = sortperm(password_chars)\n",
    "    \n",
    "    result_chars = Char[]\n",
    "    for col in order\n",
    "        for row in 1:2k\n",
    "            push!(result_chars, table[row, col])\n",
    "        end\n",
    "    end\n",
    "    \n",
    "    return join(result_chars)\n",
    "end\n",
    "\n",
    "function rotl90(matrix)\n",
    "    return permutedims(reverse(matrix, dims=1))\n",
    "end\n"
   ]
  },
  {
   "cell_type": "code",
   "execution_count": 8,
   "id": "4f812f2e-250e-4f3c-a747-a4e52597f31b",
   "metadata": {},
   "outputs": [
    {
     "name": "stdout",
     "output_type": "stream",
     "text": [
      "ГОЛИРППИВООДДОСА\n"
     ]
    }
   ],
   "source": [
    "k=2\n",
    "text2=\"договор подписали\"\n",
    "password2=\"шифр\"\n",
    "encrypted2=fleissner(k,text2,password2)\n",
    "println(encrypted2)"
   ]
  },
  {
   "cell_type": "markdown",
   "id": "9ffbbdc0-e0ba-4bf4-8f40-685aec60cfa0",
   "metadata": {},
   "source": [
    "# виженера"
   ]
  },
  {
   "cell_type": "code",
   "execution_count": 12,
   "id": "c1e37517-7801-491b-be02-343e8aee3f9a",
   "metadata": {},
   "outputs": [
    {
     "data": {
      "text/plain": [
       "vigener (generic function with 1 method)"
      ]
     },
     "execution_count": 12,
     "metadata": {},
     "output_type": "execute_result"
    }
   ],
   "source": [
    "function vigener(text, password; encrypt=true)\n",
    "    text = replace(uppercase(text), \" \" => \"\")\n",
    "    text_chars = collect(text)\n",
    "    password = uppercase(password)\n",
    "    password_chars = collect(password)\n",
    "    result_chars=Char[]\n",
    "    for (i,char) in enumerate(text_chars)\n",
    "        kchar=password_chars[(i-1)%length(password_chars)+1]\n",
    "        shift=encrypt ? 1 : -1\n",
    "\n",
    "        if 'А'<=char<='Я' && 'А'<=kchar<='Я'\n",
    "            new_char = 'А' +(Int(char)-Int('А')+shift*(Int(kchar)-Int('А')))%32\n",
    "            push!(result_chars,Char(new_char))\n",
    "        else\n",
    "            push!(result_chars,char)\n",
    "        end\n",
    "    end\n",
    "     return join(result_chars)\n",
    "end\n"
   ]
  },
  {
   "cell_type": "code",
   "execution_count": 14,
   "id": "c812ab02-0237-47e1-9f3c-ee09665427a1",
   "metadata": {},
   "outputs": [
    {
     "name": "stdout",
     "output_type": "stream",
     "text": [
      "ЦРЪФЮОХШКФФЯГКЬЬЧПЧАЛНТШЦА\n"
     ]
    }
   ],
   "source": [
    "text3=\"криптография серьезная наука\"\n",
    "password3=\"математика\"\n",
    "encrypted3=vigener(text3,password3, encrypt=true)\n",
    "println(encrypted3)"
   ]
  },
  {
   "cell_type": "code",
   "execution_count": null,
   "id": "bf31dd40-56c0-41c3-9268-05be162d3a30",
   "metadata": {},
   "outputs": [],
   "source": []
  }
 ],
 "metadata": {
  "kernelspec": {
   "display_name": "Julia 1.11.6",
   "language": "julia",
   "name": "julia-1.11"
  },
  "language_info": {
   "file_extension": ".jl",
   "mimetype": "application/julia",
   "name": "julia",
   "version": "1.11.6"
  }
 },
 "nbformat": 4,
 "nbformat_minor": 5
}
